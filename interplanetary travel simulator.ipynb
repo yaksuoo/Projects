{
 "cells": [
  {
   "cell_type": "markdown",
   "metadata": {},
   "source": [
    "**Interplanetary Travel Calculator 🪐 by Moeez**"
   ]
  },
  {
   "cell_type": "markdown",
   "metadata": {},
   "source": [
    "Things I've used: \n",
    " Variables\n",
    " ,Arithmetic operators (+, -, *, /)\n",
    " ,Conditions (if-else)\n",
    " ,Loops (while)"
   ]
  },
  {
   "cell_type": "code",
   "execution_count": null,
   "metadata": {},
   "outputs": [],
   "source": [
    "def calc_travel_time(distance, fuel_efficiency):\n",
    "    if fuel_efficiency == 0:\n",
    "        return float(\"inf\")\n",
    "    else:\n",
    "        return distance / fuel_efficiency\n",
    "\n",
    "planets= {\n",
    "    \"Earth\": 0,\n",
    "    \"Mars\": 225000000,\n",
    "    \"Jupiter\": 778500000,\n",
    "    \"Venus\": 41000000,\n",
    "    \"Saturn\": 1430000000,\n",
    "    \"Uranus\": 2870000000,\n",
    "    \"Neptune\": 4500000000,\n",
    "}\n",
    "def get_p_distance(planet_name):\n",
    "    #checking both upper and lower case\n",
    "    planet_name = planet_name.title()\n",
    "    if planet_name in planets:\n",
    "        return planets[planet_name]\n",
    "    else:\n",
    "        print(\"invalid planet name please enter milky way planet\")\n",
    "        return None\n",
    "\n",
    "def calc_rations_needed(travel_time, daily_ration):\n",
    "    return int(travel_time * daily_ration)\n",
    "\n",
    "current_location= input(\"Enter your current location (Earth, Mars, Jupiter, Venus, Saturn, Uranus, Neptune): \").lower()\n",
    "destination= input(\"Enter your desired destination (Earth, Mars, Jupiter, Venus, Saturn, Uranus, Neptune): \").lower()\n",
    "\n",
    "if current_location == destination:\n",
    "    print(\"you're already there...\")\n",
    "else:\n",
    "    distance= abs(get_p_distance(current_location) - get_p_distance(destination))\n",
    "    fuel_efficiency= float(input(\"Your spaceship's fuel efficiency?(km/liter):\"))\n",
    "    fuel_level= float(input(\"Your current fuel level? (liters):\"))\n",
    "    daily_ration= float(input(\"Your daily ration amount? (units):\"))\n",
    "\n",
    "    required_fuel= distance / fuel_efficiency\n",
    "\n",
    "    if required_fuel > fuel_level:\n",
    "        print(\"Insufficient fuel for this journey :( You need\", required_fuel - fuel_level, \"more liters :p .\")\n",
    "    else:\n",
    "        travel_time= calc_travel_time(distance,fuel_efficiency)\n",
    "        rations_needed= calc_rations_needed(travel_time,daily_ration)\n",
    "        print(\"Traveling to\", destination, \"...\")\n",
    "        fuel_level -= required_fuel #update fuel levels\n",
    "\n",
    "        #constantly checking the rations during simulation\n",
    "        for day in range(1, int(travel_time) + 1):\n",
    "            print(\"Day\", day, \"...\")\n",
    "            rations_needed -= daily_ration\n",
    "            if rations_needed < 0:\n",
    "                print(\"!WARNING! RUNNING LOW ON RATIONS. you have\", abs(rations_needed), \"days of rations remaining.\")\n",
    "                break\n",
    "\n",
    "        if rations_needed >= 0:\n",
    "            print(\"you've arrived at\", destination, \"with\", rations_needed, \"days of rations remaining :) Thanks for travelling in Yaksuo's ship!\")\n",
    "        else:\n",
    "            print(\"you've run out of rations and are unable to complete the journey :(\")\n",
    "\n",
    "\n",
    "\n",
    "\n"
   ]
  },
  {
   "cell_type": "markdown",
   "metadata": {},
   "source": [
    "**Description:**"
   ]
  },
  {
   "cell_type": "code",
   "execution_count": null,
   "metadata": {},
   "outputs": [],
   "source": [
    "'''My program calculates the travel time and rations needed for a spaceship \n",
    "journey between planets including Mars, Jupiter 🪐, Venus, Saturn 🪐, Uranus, and Neptune.\n",
    "\n",
    "Features:\n",
    "~Checks fuel sufficiency ⛽️\n",
    "~Calculates daily ration requirements\n",
    "~Tracks remaining rations during simulated travel\n",
    "\n",
    "How to Use:\n",
    "~Enter your current location and destination (case-insensitive).\n",
    "~Input your spaceship's fuel efficiency (km/liter).\n",
    "~Provide your current fuel level (liters).\n",
    "~Set your daily ration amount (units).\n",
    "\n",
    "The program will:\n",
    "~Display the required fuel and check if it's sufficient.\n",
    "~Calculate the travel time and rations needed if fuel is enough.\n",
    "~Simulate the journey, tracking daily rations and providing low-ration warning ⚠️.\n",
    "\n",
    "!feel free to try this code and improve it\n",
    "|MOEEZ AKA YAKSUO|\n",
    "'''"
   ]
  }
 ],
 "metadata": {
  "kernelspec": {
   "display_name": "base",
   "language": "python",
   "name": "python3"
  },
  "language_info": {
   "codemirror_mode": {
    "name": "ipython",
    "version": 3
   },
   "file_extension": ".py",
   "mimetype": "text/x-python",
   "name": "python",
   "nbconvert_exporter": "python",
   "pygments_lexer": "ipython3",
   "version": "3.11.7"
  }
 },
 "nbformat": 4,
 "nbformat_minor": 2
}
